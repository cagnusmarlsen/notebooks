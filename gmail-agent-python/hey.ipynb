{
 "cells": [
  {
   "cell_type": "markdown",
   "metadata": {},
   "source": [
    "# Building an AI Email Assistant with Mistral AI and Composio\n",
    "\n",
    "This notebook demonstrates how to build an AI-powered email assistant using Mistral AI and Composio in less than 50 lines of code! By using Mistral’s large language models (LLMs) and Composio’s Gmail tool, we can create a system capable of performing common Gmail actions such as sending, fetching, drafting emails etc., all through natural language commands."
   ]
  },
  {
   "cell_type": "markdown",
   "metadata": {},
   "source": [
    "## Setup and Dependencies\n",
    "\n",
    "### Mistral AI API\n",
    "\n",
    "Sign up at [Mistral AI](https://mistral.ai/) and generate an API key from the console. This key will be used to access Mistral's LLM models."
   ]
  },
  {
   "cell_type": "code",
   "execution_count": null,
   "metadata": {},
   "outputs": [],
   "source": [
    "MISTRAL_API_KEY=\"your-mistral-api-key\""
   ]
  },
  {
   "cell_type": "markdown",
   "metadata": {},
   "source": [
    "### Composio Setup\n",
    "\n",
    "Follow these steps to set up a Composio integration for Gmail -  \n",
    "\n",
    "1. Sign up for [Composio](https://app.composio.dev/), and browse to the Tools catalogue page from the sidebar.\n",
    "2. Search for the Gmail tool and select it.\n",
    "3. Select 'Setup Gmail Integration', click 'Save' and complete the authentication flow.\n",
    "4. Done! You have set-up an integration with Gmail."
   ]
  },
  {
   "cell_type": "markdown",
   "metadata": {},
   "source": [
    "### Python Libraries\n",
    "\n",
    "Install the necessary libraries to set up the AI agent - "
   ]
  },
  {
   "cell_type": "code",
   "execution_count": null,
   "metadata": {},
   "outputs": [],
   "source": [
    "%pip install composio_langchain composio_core langchain-mistralai "
   ]
  },
  {
   "cell_type": "markdown",
   "metadata": {},
   "source": [
    "## Building the Email Assistant\n",
    "\n",
    "### Initialize Composio's tools\n",
    "\n",
    "The first thing we do is initialize Composio's tools."
   ]
  },
  {
   "cell_type": "code",
   "execution_count": null,
   "metadata": {},
   "outputs": [],
   "source": [
    "from composio_langchain import Action, ComposioToolSet\n",
    "\n",
    "toolset = ComposioToolSet()\n",
    "tools = toolset.get_actions(\n",
    "    actions=[\n",
    "        Action.GMAIL_SEND_EMAIL, \n",
    "        Action.GMAIL_FETCH_EMAILS, \n",
    "        Action.GMAIL_CREATE_EMAIL_DRAFT, \n",
    "        Action.GMAIL_CREATE_LABEL\n",
    "    ],\n",
    ")"
   ]
  },
  {
   "cell_type": "markdown",
   "metadata": {},
   "source": [
    "The various actions represent functions that the LLM can call. In order for Mistral models to understand the functions, we need to outline the function specifications with a JSON schema. Specifically, we need to describe the type, function name, function description, function parameters, and the required parameter for the function. Composio does this and provides an optimized JSON schema, making it very easy to integrate external tools with LLMs. For example, for the `GMAIL_SEND_EMAIL` action, this is the schema provided to the model - "
   ]
  },
  {
   "cell_type": "markdown",
   "metadata": {},
   "source": [
    "```\n",
    "{\n",
    "\t\"properties\":{\n",
    "\t\t\"recipient_email\":{\n",
    "\t\t\t\"description\":\"Email address of the recipient\",\n",
    "\t\t\t\"examples\":[\"john@doe.com\"],\n",
    "\t\t\t\"title\":\"Recipient Email\",\n",
    "\t\t\t\"type\":\"string\"\n",
    "\t\t\t},\n",
    "\t\t\t\"subject\":{\n",
    "\t\t\t\t\"description\":\"Subject of the email\",\n",
    "\t\t\t\t\"examples\":[\"meeting\"],\n",
    "\t\t\t\t\"title\":\"Subject\",\n",
    "\t\t\t\t\"type\":\"string\"\n",
    "\t\t\t},\n",
    "\t\t\t\"body\":{\n",
    "\t\t\t\t\"description\":\"Body content of the email\",\n",
    "\t\t\t\t\"examples\":[\"Hey, nice talking to you\"],\n",
    "\t\t\t\t\"title\":\"Body\",\n",
    "\t\t\t\t\"type\":\"string\"\n",
    "\t\t\t},\n",
    "\t\t\t\"user_id\":{\n",
    "\t\t\t\t\"default\":\"me\",\n",
    "\t\t\t\t\"description\":\"The user's email address or 'me' for the authenticated user.\",\n",
    "\t\t\t\t\"title\":\"User Id\",\n",
    "\t\t\t\t\"type\":\"string\"\n",
    "\t\t\t}\n",
    "\t\t},\n",
    "\t\t\"required\":[\n",
    "\t\t\t\"recipient_email\",\n",
    "\t\t\t\"subject\",\n",
    "\t\t\t\"body\"\n",
    "\t\t],\n",
    "\t\t\"title\":\"CreateEmailDraftRequest\",\n",
    "\t\t\"type\":\"object\"\n",
    "}"
   ]
  },
  {
   "cell_type": "markdown",
   "metadata": {},
   "source": [
    "### Setting up the model\n",
    "\n"
   ]
  },
  {
   "cell_type": "code",
   "execution_count": null,
   "metadata": {},
   "outputs": [],
   "source": [
    "from langchain_mistralai import ChatMistralAI\n",
    "from langchain_core.prompts import ChatPromptTemplate\n",
    "\n",
    "llm = ChatMistralAI(model=\"mistral-large-latest\")\n",
    "prompt = ChatPromptTemplate.from_messages(\n",
    "    [\n",
    "        (\n",
    "            \"system\",\n",
    "            \"You are an AI email assistant that can write, fetch, and manage emails and labels. Follow the user’s instructions carefully and perform the requested actions. If fetching emails, print the Subject and Mail content in a readable format.\",\n",
    "        ),\n",
    "        (\"human\", \"{input}\"),\n",
    "        (\"placeholder\", \"{agent_scratchpad}\"),\n",
    "    ]\n",
    ")"
   ]
  },
  {
   "cell_type": "markdown",
   "metadata": {},
   "source": [
    "We then provide the task we want the agent to do - "
   ]
  },
  {
   "cell_type": "code",
   "execution_count": null,
   "metadata": {},
   "outputs": [],
   "source": [
    "task = input(\"Please enter the task you want to perform: \")"
   ]
  },
  {
   "cell_type": "markdown",
   "metadata": {},
   "source": [
    "We then set up an agent to execute the task - "
   ]
  },
  {
   "cell_type": "code",
   "execution_count": null,
   "metadata": {},
   "outputs": [],
   "source": [
    "from langchain.agents import AgentExecutor, create_tool_calling_agent\n",
    "\n",
    "agent = create_tool_calling_agent(\n",
    "    llm=llm,\n",
    "    tools=tools,\n",
    "    prompt=prompt,\n",
    ")\n",
    "\n",
    "agent_executor = AgentExecutor(agent=agent, tools=tools, verbose=True)\n",
    "response = agent_executor.invoke({\"input\": task})\n",
    "print(response)"
   ]
  },
  {
   "cell_type": "markdown",
   "metadata": {},
   "source": [
    "Please enter the task you want to perform: Send a mail to example@gmail.com saying hi                           \n",
    "The email has been sent successfully to example@gmail.com. "
   ]
  },
  {
   "cell_type": "markdown",
   "metadata": {},
   "source": [
    "## Conclusion\n",
    "\n",
    "In this guide, we built an AI email assistant that can perform various tasks by combining Mistral’s LLMs with Composio’s prebuilt actions. By following the steps outlined in this guide, you can extend this framework to other applications, creating a versatile tools that leverage the power of LLMs and function calling."
   ]
  }
 ],
 "metadata": {
  "kernelspec": {
   "display_name": "Python 3",
   "language": "python",
   "name": "python3"
  },
  "language_info": {
   "codemirror_mode": {
    "name": "ipython",
    "version": 3
   },
   "file_extension": ".py",
   "mimetype": "text/x-python",
   "name": "python",
   "nbconvert_exporter": "python",
   "pygments_lexer": "ipython3",
   "version": "3.12.4"
  }
 },
 "nbformat": 4,
 "nbformat_minor": 2
}
